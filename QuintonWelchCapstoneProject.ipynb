{
 "cells": [
  {
   "cell_type": "code",
   "execution_count": 1,
   "metadata": {
    "id": "-fCy_8I0A3FW"
   },
   "outputs": [
    {
     "name": "stdout",
     "output_type": "stream",
     "text": [
      "<class 'pandas.core.frame.DataFrame'>\n",
      "RangeIndex: 374 entries, 0 to 373\n",
      "Data columns (total 13 columns):\n",
      " #   Column         Non-Null Count  Dtype  \n",
      "---  ------         --------------  -----  \n",
      " 0   Person ID      374 non-null    int64  \n",
      " 1   Gender         374 non-null    object \n",
      " 2   Age            374 non-null    int64  \n",
      " 3   Occupation     374 non-null    object \n",
      " 4   slpduration    374 non-null    float64\n",
      " 5   qltsleep       374 non-null    int64  \n",
      " 6   actlevel       374 non-null    int64  \n",
      " 7   stresslevel    374 non-null    int64  \n",
      " 8   BMICategory    374 non-null    object \n",
      " 9   BloodPressure  374 non-null    object \n",
      " 10  HeartRate      374 non-null    int64  \n",
      " 11  DailySteps     374 non-null    int64  \n",
      " 12  SleepDisorder  374 non-null    object \n",
      "dtypes: float64(1), int64(7), object(5)\n",
      "memory usage: 38.1+ KB\n"
     ]
    },
    {
     "data": {
      "text/html": [
       "<div>\n",
       "<style scoped>\n",
       "    .dataframe tbody tr th:only-of-type {\n",
       "        vertical-align: middle;\n",
       "    }\n",
       "\n",
       "    .dataframe tbody tr th {\n",
       "        vertical-align: top;\n",
       "    }\n",
       "\n",
       "    .dataframe thead th {\n",
       "        text-align: right;\n",
       "    }\n",
       "</style>\n",
       "<table border=\"1\" class=\"dataframe\">\n",
       "  <thead>\n",
       "    <tr style=\"text-align: right;\">\n",
       "      <th></th>\n",
       "      <th>Person ID</th>\n",
       "      <th>Gender</th>\n",
       "      <th>Age</th>\n",
       "      <th>Occupation</th>\n",
       "      <th>slpduration</th>\n",
       "      <th>qltsleep</th>\n",
       "      <th>actlevel</th>\n",
       "      <th>stresslevel</th>\n",
       "      <th>BMICategory</th>\n",
       "      <th>BloodPressure</th>\n",
       "      <th>HeartRate</th>\n",
       "      <th>DailySteps</th>\n",
       "      <th>SleepDisorder</th>\n",
       "    </tr>\n",
       "  </thead>\n",
       "  <tbody>\n",
       "    <tr>\n",
       "      <th>0</th>\n",
       "      <td>1</td>\n",
       "      <td>Male</td>\n",
       "      <td>27</td>\n",
       "      <td>Software Engineer</td>\n",
       "      <td>6.1</td>\n",
       "      <td>6</td>\n",
       "      <td>42</td>\n",
       "      <td>6</td>\n",
       "      <td>Overweight</td>\n",
       "      <td>126/83</td>\n",
       "      <td>77</td>\n",
       "      <td>4200</td>\n",
       "      <td>None</td>\n",
       "    </tr>\n",
       "    <tr>\n",
       "      <th>1</th>\n",
       "      <td>2</td>\n",
       "      <td>Male</td>\n",
       "      <td>28</td>\n",
       "      <td>Doctor</td>\n",
       "      <td>6.2</td>\n",
       "      <td>6</td>\n",
       "      <td>60</td>\n",
       "      <td>8</td>\n",
       "      <td>Normal</td>\n",
       "      <td>125/80</td>\n",
       "      <td>75</td>\n",
       "      <td>10000</td>\n",
       "      <td>None</td>\n",
       "    </tr>\n",
       "    <tr>\n",
       "      <th>2</th>\n",
       "      <td>3</td>\n",
       "      <td>Male</td>\n",
       "      <td>28</td>\n",
       "      <td>Doctor</td>\n",
       "      <td>6.2</td>\n",
       "      <td>6</td>\n",
       "      <td>60</td>\n",
       "      <td>8</td>\n",
       "      <td>Normal</td>\n",
       "      <td>125/80</td>\n",
       "      <td>75</td>\n",
       "      <td>10000</td>\n",
       "      <td>None</td>\n",
       "    </tr>\n",
       "    <tr>\n",
       "      <th>3</th>\n",
       "      <td>4</td>\n",
       "      <td>Male</td>\n",
       "      <td>28</td>\n",
       "      <td>Sales Representative</td>\n",
       "      <td>5.9</td>\n",
       "      <td>4</td>\n",
       "      <td>30</td>\n",
       "      <td>8</td>\n",
       "      <td>Obese</td>\n",
       "      <td>140/90</td>\n",
       "      <td>85</td>\n",
       "      <td>3000</td>\n",
       "      <td>Sleep Apnea</td>\n",
       "    </tr>\n",
       "    <tr>\n",
       "      <th>4</th>\n",
       "      <td>5</td>\n",
       "      <td>Male</td>\n",
       "      <td>28</td>\n",
       "      <td>Sales Representative</td>\n",
       "      <td>5.9</td>\n",
       "      <td>4</td>\n",
       "      <td>30</td>\n",
       "      <td>8</td>\n",
       "      <td>Obese</td>\n",
       "      <td>140/90</td>\n",
       "      <td>85</td>\n",
       "      <td>3000</td>\n",
       "      <td>Sleep Apnea</td>\n",
       "    </tr>\n",
       "  </tbody>\n",
       "</table>\n",
       "</div>"
      ],
      "text/plain": [
       "   Person ID Gender  Age            Occupation  slpduration  qltsleep  \\\n",
       "0          1   Male   27     Software Engineer          6.1         6   \n",
       "1          2   Male   28                Doctor          6.2         6   \n",
       "2          3   Male   28                Doctor          6.2         6   \n",
       "3          4   Male   28  Sales Representative          5.9         4   \n",
       "4          5   Male   28  Sales Representative          5.9         4   \n",
       "\n",
       "   actlevel  stresslevel BMICategory BloodPressure  HeartRate  DailySteps  \\\n",
       "0        42            6  Overweight        126/83         77        4200   \n",
       "1        60            8      Normal        125/80         75       10000   \n",
       "2        60            8      Normal        125/80         75       10000   \n",
       "3        30            8       Obese        140/90         85        3000   \n",
       "4        30            8       Obese        140/90         85        3000   \n",
       "\n",
       "  SleepDisorder  \n",
       "0          None  \n",
       "1          None  \n",
       "2          None  \n",
       "3   Sleep Apnea  \n",
       "4   Sleep Apnea  "
      ]
     },
     "execution_count": 1,
     "metadata": {},
     "output_type": "execute_result"
    }
   ],
   "source": [
    "#Sleep Health and Lifestyle Data -- Capstone Project\n",
    "\n",
    "%matplotlib inline\n",
    "import pandas as pd\n",
    "import numpy as np\n",
    "import seaborn as sns\n",
    "from matplotlib import pyplot as plt\n",
    "from scipy import stats\n",
    "\n",
    "shl_data = pd.read_csv(\"https://raw.githubusercontent.com/QWelch008/DataScience/main/Sleep_health_and_lifestyle_dataset.csv\")\n",
    "\n",
    "#Overview of data\n",
    "shl_data.info()\n",
    "shl_data.head()"
   ]
  },
  {
   "cell_type": "code",
   "execution_count": 2,
   "metadata": {
    "id": "XO7vuP2bOFEk"
   },
   "outputs": [
    {
     "data": {
      "text/html": [
       "<div>\n",
       "<style scoped>\n",
       "    .dataframe tbody tr th:only-of-type {\n",
       "        vertical-align: middle;\n",
       "    }\n",
       "\n",
       "    .dataframe tbody tr th {\n",
       "        vertical-align: top;\n",
       "    }\n",
       "\n",
       "    .dataframe thead th {\n",
       "        text-align: right;\n",
       "    }\n",
       "</style>\n",
       "<table border=\"1\" class=\"dataframe\">\n",
       "  <thead>\n",
       "    <tr style=\"text-align: right;\">\n",
       "      <th></th>\n",
       "      <th>slpduration</th>\n",
       "      <th>actlevel</th>\n",
       "      <th>qltsleep</th>\n",
       "      <th>stresslevel</th>\n",
       "      <th>Age</th>\n",
       "      <th>HeartRate</th>\n",
       "      <th>DailySteps</th>\n",
       "    </tr>\n",
       "  </thead>\n",
       "  <tbody>\n",
       "    <tr>\n",
       "      <th>count</th>\n",
       "      <td>374.000000</td>\n",
       "      <td>374.000000</td>\n",
       "      <td>374.000000</td>\n",
       "      <td>374.000000</td>\n",
       "      <td>374.000000</td>\n",
       "      <td>374.000000</td>\n",
       "      <td>374.000000</td>\n",
       "    </tr>\n",
       "    <tr>\n",
       "      <th>mean</th>\n",
       "      <td>7.132086</td>\n",
       "      <td>59.171123</td>\n",
       "      <td>7.312834</td>\n",
       "      <td>5.385027</td>\n",
       "      <td>42.184492</td>\n",
       "      <td>70.165775</td>\n",
       "      <td>6816.844920</td>\n",
       "    </tr>\n",
       "    <tr>\n",
       "      <th>std</th>\n",
       "      <td>0.795657</td>\n",
       "      <td>20.830804</td>\n",
       "      <td>1.196956</td>\n",
       "      <td>1.774526</td>\n",
       "      <td>8.673133</td>\n",
       "      <td>4.135676</td>\n",
       "      <td>1617.915679</td>\n",
       "    </tr>\n",
       "    <tr>\n",
       "      <th>min</th>\n",
       "      <td>5.800000</td>\n",
       "      <td>30.000000</td>\n",
       "      <td>4.000000</td>\n",
       "      <td>3.000000</td>\n",
       "      <td>27.000000</td>\n",
       "      <td>65.000000</td>\n",
       "      <td>3000.000000</td>\n",
       "    </tr>\n",
       "    <tr>\n",
       "      <th>25%</th>\n",
       "      <td>6.400000</td>\n",
       "      <td>45.000000</td>\n",
       "      <td>6.000000</td>\n",
       "      <td>4.000000</td>\n",
       "      <td>35.250000</td>\n",
       "      <td>68.000000</td>\n",
       "      <td>5600.000000</td>\n",
       "    </tr>\n",
       "    <tr>\n",
       "      <th>50%</th>\n",
       "      <td>7.200000</td>\n",
       "      <td>60.000000</td>\n",
       "      <td>7.000000</td>\n",
       "      <td>5.000000</td>\n",
       "      <td>43.000000</td>\n",
       "      <td>70.000000</td>\n",
       "      <td>7000.000000</td>\n",
       "    </tr>\n",
       "    <tr>\n",
       "      <th>75%</th>\n",
       "      <td>7.800000</td>\n",
       "      <td>75.000000</td>\n",
       "      <td>8.000000</td>\n",
       "      <td>7.000000</td>\n",
       "      <td>50.000000</td>\n",
       "      <td>72.000000</td>\n",
       "      <td>8000.000000</td>\n",
       "    </tr>\n",
       "    <tr>\n",
       "      <th>max</th>\n",
       "      <td>8.500000</td>\n",
       "      <td>90.000000</td>\n",
       "      <td>9.000000</td>\n",
       "      <td>8.000000</td>\n",
       "      <td>59.000000</td>\n",
       "      <td>86.000000</td>\n",
       "      <td>10000.000000</td>\n",
       "    </tr>\n",
       "  </tbody>\n",
       "</table>\n",
       "</div>"
      ],
      "text/plain": [
       "       slpduration    actlevel    qltsleep  stresslevel         Age  \\\n",
       "count   374.000000  374.000000  374.000000   374.000000  374.000000   \n",
       "mean      7.132086   59.171123    7.312834     5.385027   42.184492   \n",
       "std       0.795657   20.830804    1.196956     1.774526    8.673133   \n",
       "min       5.800000   30.000000    4.000000     3.000000   27.000000   \n",
       "25%       6.400000   45.000000    6.000000     4.000000   35.250000   \n",
       "50%       7.200000   60.000000    7.000000     5.000000   43.000000   \n",
       "75%       7.800000   75.000000    8.000000     7.000000   50.000000   \n",
       "max       8.500000   90.000000    9.000000     8.000000   59.000000   \n",
       "\n",
       "        HeartRate    DailySteps  \n",
       "count  374.000000    374.000000  \n",
       "mean    70.165775   6816.844920  \n",
       "std      4.135676   1617.915679  \n",
       "min     65.000000   3000.000000  \n",
       "25%     68.000000   5600.000000  \n",
       "50%     70.000000   7000.000000  \n",
       "75%     72.000000   8000.000000  \n",
       "max     86.000000  10000.000000  "
      ]
     },
     "execution_count": 2,
     "metadata": {},
     "output_type": "execute_result"
    }
   ],
   "source": [
    "#Stats for all numeric values in dataset. Good for introducing the data to audience with basic stats such as min/max and average.\n",
    "shl_data[['slpduration','actlevel','qltsleep','stresslevel','Age','HeartRate','DailySteps']].describe()"
   ]
  },
  {
   "cell_type": "code",
   "execution_count": null,
   "metadata": {
    "id": "COrpUAiKeXR0"
   },
   "outputs": [],
   "source": [
    "#list of possible potential outcomes for BMI Category. (quick glance info for audience)\n",
    "shl_data['BMICategory'].unique()"
   ]
  },
  {
   "cell_type": "code",
   "execution_count": null,
   "metadata": {
    "id": "NF3NFBJxfVoZ"
   },
   "outputs": [],
   "source": [
    "#list of possible potential outcomes for Sleep Disorders. (quick glance info for audience)\n",
    "shl_data['SleepDisorder'].unique()"
   ]
  },
  {
   "cell_type": "code",
   "execution_count": null,
   "metadata": {
    "id": "lG6DKaQDLyc6"
   },
   "outputs": [],
   "source": [
    "#Checking correlation between sleep duration, quality of sleep, phyiscal activity & stress levels\n",
    "shl_data[['slpduration','qltsleep','actlevel','stresslevel']].corr()"
   ]
  },
  {
   "cell_type": "code",
   "execution_count": null,
   "metadata": {
    "id": "FiHzipwsMXxr"
   },
   "outputs": [],
   "source": [
    "#Eyechecking histograms of each main variable we are looking at\n",
    "sns.histplot(shl_data['stresslevel'])"
   ]
  },
  {
   "cell_type": "code",
   "execution_count": null,
   "metadata": {
    "id": "NB1Ge2M9M4Pq"
   },
   "outputs": [],
   "source": [
    "#as expected qlt of sleep being subjective has a slightly skewed histogram\n",
    "sns.histplot(shl_data['qltsleep'])"
   ]
  },
  {
   "cell_type": "code",
   "execution_count": null,
   "metadata": {
    "id": "q1Z6IMnBNGjj"
   },
   "outputs": [],
   "source": [
    "sns.histplot(shl_data['slpduration'])"
   ]
  },
  {
   "cell_type": "code",
   "execution_count": null,
   "metadata": {
    "id": "uW7sDCNqNGuM"
   },
   "outputs": [],
   "source": [
    "sns.histplot(shl_data['actlevel'])"
   ]
  },
  {
   "cell_type": "code",
   "execution_count": null,
   "metadata": {
    "id": "TJfEXzgRhyNO"
   },
   "outputs": [],
   "source": [
    "#Statistical Signfigance of Correlations (p-value less than 0.05 shows signifigance)\n",
    "stats.pearsonr(shl_data['qltsleep'], shl_data['slpduration'])"
   ]
  },
  {
   "cell_type": "code",
   "execution_count": null,
   "metadata": {
    "id": "Pc-ic01so9gt"
   },
   "outputs": [],
   "source": [
    "stats.pearsonr(shl_data['qltsleep'], shl_data['actlevel'])"
   ]
  },
  {
   "cell_type": "code",
   "execution_count": null,
   "metadata": {
    "id": "9KJPiV7yo_Dj"
   },
   "outputs": [],
   "source": [
    "stats.pearsonr(shl_data['qltsleep'], shl_data['stresslevel'])"
   ]
  },
  {
   "cell_type": "code",
   "execution_count": null,
   "metadata": {
    "id": "6SDt4I-mkMfy"
   },
   "outputs": [],
   "source": [
    "#ttest for each correlations (p-value < 0.05 is significant outcome) (reject null if statistics is greater than 1.96 OR p-value is less than 0.05)\n",
    "stats.ttest_ind(shl_data['qltsleep'], shl_data['slpduration'])"
   ]
  },
  {
   "cell_type": "code",
   "execution_count": null,
   "metadata": {
    "id": "0fwmbLNhpLqf"
   },
   "outputs": [],
   "source": [
    "stats.ttest_ind(shl_data['qltsleep'], shl_data['actlevel'])"
   ]
  },
  {
   "cell_type": "code",
   "execution_count": null,
   "metadata": {
    "id": "8PdO7Bl8pNfk"
   },
   "outputs": [],
   "source": [
    "stats.ttest_ind(shl_data['qltsleep'], shl_data['stresslevel'])"
   ]
  },
  {
   "cell_type": "code",
   "execution_count": null,
   "metadata": {
    "id": "P4huWUactrxJ"
   },
   "outputs": [],
   "source": [
    "#Scatterplot showing increased sleep duration often leads to higer perceived quality of sleep which shows a correlation to lower levels of stress\n",
    "sns.scatterplot(x='slpduration', y='qltsleep', hue='stresslevel', data=shl_data)"
   ]
  },
  {
   "cell_type": "code",
   "execution_count": null,
   "metadata": {
    "id": "ghnq8cJ7V6yy"
   },
   "outputs": [],
   "source": [
    "#Scatterplot showing increased activity levels seem to not have a signifigant impact on qlt of sleep\n",
    "sns.scatterplot(x='actlevel', y='qltsleep', hue='stresslevel', data=shl_data)\n",
    "plt.legend(loc='lower center')"
   ]
  },
  {
   "cell_type": "code",
   "execution_count": null,
   "metadata": {
    "id": "CdAMX0h2v1yi"
   },
   "outputs": [],
   "source": [
    "#BoxPlot showing a positive correlation between an increased amount of sleep leading to a better percieved quality of sleep\n",
    "sns.boxplot(y='slpduration', x='qltsleep', data=shl_data)"
   ]
  },
  {
   "cell_type": "code",
   "execution_count": null,
   "metadata": {
    "id": "eeNwgRpqTf0j"
   },
   "outputs": [],
   "source": [
    "#BoxPlot showing a negative correlation between a lower levels of perceieved stress leading to increased perceived levels of quality of sleep and vice versa\n",
    "sns.boxplot(y='stresslevel', x='qltsleep', data=shl_data)"
   ]
  },
  {
   "cell_type": "code",
   "execution_count": null,
   "metadata": {
    "id": "skAB48oJykvE"
   },
   "outputs": [],
   "source": [
    "#Splitting Dataset by Sleepdisorder. mostly did this for audience purposes, graphs show visual that potential patients with insomnia or sleep apnea are at risk of lower sleep durations which in turn has a significant correlation of percieved stress levels.\n",
    "sleepdisorder_no = shl_data[(shl_data['SleepDisorder'] == 'None')]\n",
    "sleepdisorder_no.info()\n",
    "\n",
    "sleepdisorder_yes = shl_data[(shl_data['SleepDisorder'] == 'Insomnia')]\n",
    "sleepdisorder_yes.info()\n",
    "\n",
    "sleepdisorder_yes2 = shl_data[(shl_data['SleepDisorder'] == 'Sleep Apnea')]\n",
    "sleepdisorder_yes2.info()\n",
    "\n",
    "#PlottingData showing duration of sleep compared to sleep disorders\n",
    "plt.hist(sleepdisorder_yes['slpduration'], alpha = .5, label = 'Insomnia')\n",
    "plt.hist(sleepdisorder_no['slpduration'], alpha = .5, label = 'None')\n",
    "plt.legend(loc=\"upper right\")\n",
    "plt.show();\n",
    "\n",
    "plt.hist(sleepdisorder_yes2['slpduration'], alpha = .5, label = 'Sleep Apnea')\n",
    "plt.hist(sleepdisorder_no['slpduration'], alpha = .5, label = 'None')\n",
    "plt.legend(loc=\"upper right\")\n",
    "plt.show()\n",
    "\n",
    "print(stats.describe(sleepdisorder_yes['stresslevel']))\n",
    "print(stats.describe(sleepdisorder_yes2['stresslevel']))\n",
    "print(stats.describe(sleepdisorder_no['stresslevel']))"
   ]
  },
  {
   "cell_type": "code",
   "execution_count": null,
   "metadata": {
    "id": "5PxDfWO04H-L"
   },
   "outputs": [],
   "source": [
    "#Splitting Dataset by Avg Sleep Duration. Histogram provides proof lower stress levels tend to correlate with longer sleep durations\n",
    "sleepduration_high = shl_data[(shl_data['slpduration'] >= 7)]\n",
    "sleepduration_high.info()\n",
    "\n",
    "sleepduration_low = shl_data[(shl_data['slpduration'] < 7)]\n",
    "sleepduration_low.info()\n",
    "\n",
    "plt.hist(sleepduration_high['stresslevel'], alpha = .5, label = 'Higher Stress')\n",
    "plt.hist(sleepduration_low['stresslevel'], alpha = .5, label = 'Lower Stress')\n",
    "plt.legend(loc= 'upper center')\n",
    "plt.show()\n",
    "\n",
    "print(stats.describe(sleepduration_high['stresslevel']))\n",
    "print(stats.describe(sleepduration_low['stresslevel']))"
   ]
  },
  {
   "cell_type": "code",
   "execution_count": null,
   "metadata": {
    "id": "2jid_OJK68DX"
   },
   "outputs": [],
   "source": [
    "#Splitting Dataset by Avg Activity Level. Histogram shows visual proof of little correlation between activity level and stress levels\n",
    "actlevel_high = shl_data[(shl_data['actlevel'] >= 59)]\n",
    "actlevel_high.info()\n",
    "\n",
    "actlevel_low = shl_data[(shl_data['actlevel'] < 59)]\n",
    "actlevel_low.info()\n",
    "\n",
    "plt.hist(actlevel_high['stresslevel'], alpha = .5, label = 'Higher Stress')\n",
    "plt.hist(actlevel_low['stresslevel'], alpha = .5, label = 'Lower Stress')\n",
    "plt.legend(loc= 'upper right')\n",
    "plt.show()\n",
    "\n",
    "print(stats.describe(actlevel_high['stresslevel']))\n",
    "print(stats.describe(actlevel_low['stresslevel']))"
   ]
  },
  {
   "cell_type": "code",
   "execution_count": null,
   "metadata": {
    "id": "_3OIz9YamrQV"
   },
   "outputs": [],
   "source": [
    "#Splitting Dataset by Avg Quality of Sleep. Histogram shows visual proof that lower stress levels seem to correlate with higher quality of sleep\n",
    "qltsleep_high = shl_data[(shl_data['qltsleep'] >= 7)]\n",
    "qltsleep_high.info()\n",
    "\n",
    "qltsleep_low = shl_data[(shl_data['qltsleep'] < 7)]\n",
    "qltsleep_low.info()\n",
    "\n",
    "plt.hist(qltsleep_high['stresslevel'], alpha = .5, label = 'Higher Stress')\n",
    "plt.hist(qltsleep_low['stresslevel'], alpha = .5, label = 'Lower Stress')\n",
    "plt.legend(loc= 'upper right')\n",
    "plt.show()\n",
    "\n",
    "print(stats.describe(qltsleep_high['stresslevel']))\n",
    "print(stats.describe(qltsleep_low['stresslevel']))"
   ]
  },
  {
   "cell_type": "code",
   "execution_count": null,
   "metadata": {
    "id": "7dV2X2Nm2SN0"
   },
   "outputs": [],
   "source": [
    "#Overall, our inital correlations showed proof of our hypothesis being correct in the sense that increased sleep duration and sleep quality seem to have a strong correlation to an overal precieved less of stress. However the physical activity level did not seem to show a strong correlation to stress levelsa as initially expected. After running some Pearson and Ttest on each indivsual varaibel compared to stress levels we did receive an accetable P-value for ALL test run below 0.05 to reject the null hypothesis confirming that the intended variabels listed such as increased sleep duration & physical activity do normally lead to higher levels of perceived quality of sleep, with sleep duration having a much more significant impact than physical activity. Also proving that with an improved level quality of sleep will lead to lower levels of stress we ran multiple different visuals from histograms, boxplots and scatterplots to show proof of our findings with ALL graphs information showing skewness within +-3 and Kurtosis within +-8, (other than basic stress level histogram as expected) showing proof of symmetry for our graphs when using stress level as a hue to provide easier visuals to read. Our conclusion would be to focus on reccomending a focus on proper sleep durations to increase overall levels of perceived quality of sleep. Which in turn strongly correlates to overal lower levels of stress."
   ]
  }
 ],
 "metadata": {
  "colab": {
   "provenance": []
  },
  "kernelspec": {
   "display_name": "Python 3 (ipykernel)",
   "language": "python",
   "name": "python3"
  },
  "language_info": {
   "codemirror_mode": {
    "name": "ipython",
    "version": 3
   },
   "file_extension": ".py",
   "mimetype": "text/x-python",
   "name": "python",
   "nbconvert_exporter": "python",
   "pygments_lexer": "ipython3",
   "version": "3.10.9"
  }
 },
 "nbformat": 4,
 "nbformat_minor": 1
}
