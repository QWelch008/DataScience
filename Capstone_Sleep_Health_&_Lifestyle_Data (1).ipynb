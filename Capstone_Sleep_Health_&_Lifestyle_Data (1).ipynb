{
  "nbformat": 4,
  "nbformat_minor": 0,
  "metadata": {
    "colab": {
      "provenance": []
    },
    "kernelspec": {
      "name": "python3",
      "display_name": "Python 3"
    },
    "language_info": {
      "name": "python"
    }
  },
  "cells": [
    {
      "cell_type": "code",
      "source": [
        "#Sleep Health and Lifestyle Data -- Capstone Project\n",
        "\n",
        "%matplotlib inline\n",
        "import pandas as pd\n",
        "import numpy as np\n",
        "import seaborn as sns\n",
        "from matplotlib import pyplot as plt\n",
        "from scipy import stats\n",
        "\n",
        "shl_data = pd.read_csv(\"https://raw.githubusercontent.com/QWelch008/DataScience/main/Sleep_health_and_lifestyle_dataset.csv\")\n",
        "\n",
        "#Overview of data\n",
        "shl_data.info()\n",
        "shl_data.head()"
      ],
      "metadata": {
        "id": "-fCy_8I0A3FW",
        "colab": {
          "base_uri": "https://localhost:8080/",
          "height": 553
        },
        "outputId": "7f107ae5-3a3c-4576-fe98-f134af58546c"
      },
      "execution_count": 1,
      "outputs": [
        {
          "output_type": "stream",
          "name": "stdout",
          "text": [
            "<class 'pandas.core.frame.DataFrame'>\n",
            "RangeIndex: 374 entries, 0 to 373\n",
            "Data columns (total 13 columns):\n",
            " #   Column         Non-Null Count  Dtype  \n",
            "---  ------         --------------  -----  \n",
            " 0   Person ID      374 non-null    int64  \n",
            " 1   Gender         374 non-null    object \n",
            " 2   Age            374 non-null    int64  \n",
            " 3   Occupation     374 non-null    object \n",
            " 4   slpduration    374 non-null    float64\n",
            " 5   qltsleep       374 non-null    int64  \n",
            " 6   actlevel       374 non-null    int64  \n",
            " 7   stresslevel    374 non-null    int64  \n",
            " 8   BMICategory    374 non-null    object \n",
            " 9   BloodPressure  374 non-null    object \n",
            " 10  HeartRate      374 non-null    int64  \n",
            " 11  DailySteps     374 non-null    int64  \n",
            " 12  SleepDisorder  374 non-null    object \n",
            "dtypes: float64(1), int64(7), object(5)\n",
            "memory usage: 38.1+ KB\n"
          ]
        },
        {
          "output_type": "execute_result",
          "data": {
            "text/plain": [
              "   Person ID Gender  Age            Occupation  slpduration  qltsleep  \\\n",
              "0          1   Male   27     Software Engineer          6.1         6   \n",
              "1          2   Male   28                Doctor          6.2         6   \n",
              "2          3   Male   28                Doctor          6.2         6   \n",
              "3          4   Male   28  Sales Representative          5.9         4   \n",
              "4          5   Male   28  Sales Representative          5.9         4   \n",
              "\n",
              "   actlevel  stresslevel BMICategory BloodPressure  HeartRate  DailySteps  \\\n",
              "0        42            6  Overweight        126/83         77        4200   \n",
              "1        60            8      Normal        125/80         75       10000   \n",
              "2        60            8      Normal        125/80         75       10000   \n",
              "3        30            8       Obese        140/90         85        3000   \n",
              "4        30            8       Obese        140/90         85        3000   \n",
              "\n",
              "  SleepDisorder  \n",
              "0          None  \n",
              "1          None  \n",
              "2          None  \n",
              "3   Sleep Apnea  \n",
              "4   Sleep Apnea  "
            ],
            "text/html": [
              "\n",
              "\n",
              "  <div id=\"df-9d5cd762-9317-4bc4-9bec-cf977216a720\">\n",
              "    <div class=\"colab-df-container\">\n",
              "      <div>\n",
              "<style scoped>\n",
              "    .dataframe tbody tr th:only-of-type {\n",
              "        vertical-align: middle;\n",
              "    }\n",
              "\n",
              "    .dataframe tbody tr th {\n",
              "        vertical-align: top;\n",
              "    }\n",
              "\n",
              "    .dataframe thead th {\n",
              "        text-align: right;\n",
              "    }\n",
              "</style>\n",
              "<table border=\"1\" class=\"dataframe\">\n",
              "  <thead>\n",
              "    <tr style=\"text-align: right;\">\n",
              "      <th></th>\n",
              "      <th>Person ID</th>\n",
              "      <th>Gender</th>\n",
              "      <th>Age</th>\n",
              "      <th>Occupation</th>\n",
              "      <th>slpduration</th>\n",
              "      <th>qltsleep</th>\n",
              "      <th>actlevel</th>\n",
              "      <th>stresslevel</th>\n",
              "      <th>BMICategory</th>\n",
              "      <th>BloodPressure</th>\n",
              "      <th>HeartRate</th>\n",
              "      <th>DailySteps</th>\n",
              "      <th>SleepDisorder</th>\n",
              "    </tr>\n",
              "  </thead>\n",
              "  <tbody>\n",
              "    <tr>\n",
              "      <th>0</th>\n",
              "      <td>1</td>\n",
              "      <td>Male</td>\n",
              "      <td>27</td>\n",
              "      <td>Software Engineer</td>\n",
              "      <td>6.1</td>\n",
              "      <td>6</td>\n",
              "      <td>42</td>\n",
              "      <td>6</td>\n",
              "      <td>Overweight</td>\n",
              "      <td>126/83</td>\n",
              "      <td>77</td>\n",
              "      <td>4200</td>\n",
              "      <td>None</td>\n",
              "    </tr>\n",
              "    <tr>\n",
              "      <th>1</th>\n",
              "      <td>2</td>\n",
              "      <td>Male</td>\n",
              "      <td>28</td>\n",
              "      <td>Doctor</td>\n",
              "      <td>6.2</td>\n",
              "      <td>6</td>\n",
              "      <td>60</td>\n",
              "      <td>8</td>\n",
              "      <td>Normal</td>\n",
              "      <td>125/80</td>\n",
              "      <td>75</td>\n",
              "      <td>10000</td>\n",
              "      <td>None</td>\n",
              "    </tr>\n",
              "    <tr>\n",
              "      <th>2</th>\n",
              "      <td>3</td>\n",
              "      <td>Male</td>\n",
              "      <td>28</td>\n",
              "      <td>Doctor</td>\n",
              "      <td>6.2</td>\n",
              "      <td>6</td>\n",
              "      <td>60</td>\n",
              "      <td>8</td>\n",
              "      <td>Normal</td>\n",
              "      <td>125/80</td>\n",
              "      <td>75</td>\n",
              "      <td>10000</td>\n",
              "      <td>None</td>\n",
              "    </tr>\n",
              "    <tr>\n",
              "      <th>3</th>\n",
              "      <td>4</td>\n",
              "      <td>Male</td>\n",
              "      <td>28</td>\n",
              "      <td>Sales Representative</td>\n",
              "      <td>5.9</td>\n",
              "      <td>4</td>\n",
              "      <td>30</td>\n",
              "      <td>8</td>\n",
              "      <td>Obese</td>\n",
              "      <td>140/90</td>\n",
              "      <td>85</td>\n",
              "      <td>3000</td>\n",
              "      <td>Sleep Apnea</td>\n",
              "    </tr>\n",
              "    <tr>\n",
              "      <th>4</th>\n",
              "      <td>5</td>\n",
              "      <td>Male</td>\n",
              "      <td>28</td>\n",
              "      <td>Sales Representative</td>\n",
              "      <td>5.9</td>\n",
              "      <td>4</td>\n",
              "      <td>30</td>\n",
              "      <td>8</td>\n",
              "      <td>Obese</td>\n",
              "      <td>140/90</td>\n",
              "      <td>85</td>\n",
              "      <td>3000</td>\n",
              "      <td>Sleep Apnea</td>\n",
              "    </tr>\n",
              "  </tbody>\n",
              "</table>\n",
              "</div>\n",
              "      <button class=\"colab-df-convert\" onclick=\"convertToInteractive('df-9d5cd762-9317-4bc4-9bec-cf977216a720')\"\n",
              "              title=\"Convert this dataframe to an interactive table.\"\n",
              "              style=\"display:none;\">\n",
              "\n",
              "  <svg xmlns=\"http://www.w3.org/2000/svg\" height=\"24px\"viewBox=\"0 0 24 24\"\n",
              "       width=\"24px\">\n",
              "    <path d=\"M0 0h24v24H0V0z\" fill=\"none\"/>\n",
              "    <path d=\"M18.56 5.44l.94 2.06.94-2.06 2.06-.94-2.06-.94-.94-2.06-.94 2.06-2.06.94zm-11 1L8.5 8.5l.94-2.06 2.06-.94-2.06-.94L8.5 2.5l-.94 2.06-2.06.94zm10 10l.94 2.06.94-2.06 2.06-.94-2.06-.94-.94-2.06-.94 2.06-2.06.94z\"/><path d=\"M17.41 7.96l-1.37-1.37c-.4-.4-.92-.59-1.43-.59-.52 0-1.04.2-1.43.59L10.3 9.45l-7.72 7.72c-.78.78-.78 2.05 0 2.83L4 21.41c.39.39.9.59 1.41.59.51 0 1.02-.2 1.41-.59l7.78-7.78 2.81-2.81c.8-.78.8-2.07 0-2.86zM5.41 20L4 18.59l7.72-7.72 1.47 1.35L5.41 20z\"/>\n",
              "  </svg>\n",
              "      </button>\n",
              "\n",
              "\n",
              "\n",
              "    <div id=\"df-650eb8c2-bc14-4787-811f-846d2bbce15c\">\n",
              "      <button class=\"colab-df-quickchart\" onclick=\"quickchart('df-650eb8c2-bc14-4787-811f-846d2bbce15c')\"\n",
              "              title=\"Suggest charts.\"\n",
              "              style=\"display:none;\">\n",
              "\n",
              "<svg xmlns=\"http://www.w3.org/2000/svg\" height=\"24px\"viewBox=\"0 0 24 24\"\n",
              "     width=\"24px\">\n",
              "    <g>\n",
              "        <path d=\"M19 3H5c-1.1 0-2 .9-2 2v14c0 1.1.9 2 2 2h14c1.1 0 2-.9 2-2V5c0-1.1-.9-2-2-2zM9 17H7v-7h2v7zm4 0h-2V7h2v10zm4 0h-2v-4h2v4z\"/>\n",
              "    </g>\n",
              "</svg>\n",
              "      </button>\n",
              "    </div>\n",
              "\n",
              "<style>\n",
              "  .colab-df-quickchart {\n",
              "    background-color: #E8F0FE;\n",
              "    border: none;\n",
              "    border-radius: 50%;\n",
              "    cursor: pointer;\n",
              "    display: none;\n",
              "    fill: #1967D2;\n",
              "    height: 32px;\n",
              "    padding: 0 0 0 0;\n",
              "    width: 32px;\n",
              "  }\n",
              "\n",
              "  .colab-df-quickchart:hover {\n",
              "    background-color: #E2EBFA;\n",
              "    box-shadow: 0px 1px 2px rgba(60, 64, 67, 0.3), 0px 1px 3px 1px rgba(60, 64, 67, 0.15);\n",
              "    fill: #174EA6;\n",
              "  }\n",
              "\n",
              "  [theme=dark] .colab-df-quickchart {\n",
              "    background-color: #3B4455;\n",
              "    fill: #D2E3FC;\n",
              "  }\n",
              "\n",
              "  [theme=dark] .colab-df-quickchart:hover {\n",
              "    background-color: #434B5C;\n",
              "    box-shadow: 0px 1px 3px 1px rgba(0, 0, 0, 0.15);\n",
              "    filter: drop-shadow(0px 1px 2px rgba(0, 0, 0, 0.3));\n",
              "    fill: #FFFFFF;\n",
              "  }\n",
              "</style>\n",
              "\n",
              "    <script>\n",
              "      async function quickchart(key) {\n",
              "        const containerElement = document.querySelector('#' + key);\n",
              "        const charts = await google.colab.kernel.invokeFunction(\n",
              "            'suggestCharts', [key], {});\n",
              "      }\n",
              "    </script>\n",
              "\n",
              "      <script>\n",
              "\n",
              "function displayQuickchartButton(domScope) {\n",
              "  let quickchartButtonEl =\n",
              "    domScope.querySelector('#df-650eb8c2-bc14-4787-811f-846d2bbce15c button.colab-df-quickchart');\n",
              "  quickchartButtonEl.style.display =\n",
              "    google.colab.kernel.accessAllowed ? 'block' : 'none';\n",
              "}\n",
              "\n",
              "        displayQuickchartButton(document);\n",
              "      </script>\n",
              "      <style>\n",
              "    .colab-df-container {\n",
              "      display:flex;\n",
              "      flex-wrap:wrap;\n",
              "      gap: 12px;\n",
              "    }\n",
              "\n",
              "    .colab-df-convert {\n",
              "      background-color: #E8F0FE;\n",
              "      border: none;\n",
              "      border-radius: 50%;\n",
              "      cursor: pointer;\n",
              "      display: none;\n",
              "      fill: #1967D2;\n",
              "      height: 32px;\n",
              "      padding: 0 0 0 0;\n",
              "      width: 32px;\n",
              "    }\n",
              "\n",
              "    .colab-df-convert:hover {\n",
              "      background-color: #E2EBFA;\n",
              "      box-shadow: 0px 1px 2px rgba(60, 64, 67, 0.3), 0px 1px 3px 1px rgba(60, 64, 67, 0.15);\n",
              "      fill: #174EA6;\n",
              "    }\n",
              "\n",
              "    [theme=dark] .colab-df-convert {\n",
              "      background-color: #3B4455;\n",
              "      fill: #D2E3FC;\n",
              "    }\n",
              "\n",
              "    [theme=dark] .colab-df-convert:hover {\n",
              "      background-color: #434B5C;\n",
              "      box-shadow: 0px 1px 3px 1px rgba(0, 0, 0, 0.15);\n",
              "      filter: drop-shadow(0px 1px 2px rgba(0, 0, 0, 0.3));\n",
              "      fill: #FFFFFF;\n",
              "    }\n",
              "  </style>\n",
              "\n",
              "      <script>\n",
              "        const buttonEl =\n",
              "          document.querySelector('#df-9d5cd762-9317-4bc4-9bec-cf977216a720 button.colab-df-convert');\n",
              "        buttonEl.style.display =\n",
              "          google.colab.kernel.accessAllowed ? 'block' : 'none';\n",
              "\n",
              "        async function convertToInteractive(key) {\n",
              "          const element = document.querySelector('#df-9d5cd762-9317-4bc4-9bec-cf977216a720');\n",
              "          const dataTable =\n",
              "            await google.colab.kernel.invokeFunction('convertToInteractive',\n",
              "                                                     [key], {});\n",
              "          if (!dataTable) return;\n",
              "\n",
              "          const docLinkHtml = 'Like what you see? Visit the ' +\n",
              "            '<a target=\"_blank\" href=https://colab.research.google.com/notebooks/data_table.ipynb>data table notebook</a>'\n",
              "            + ' to learn more about interactive tables.';\n",
              "          element.innerHTML = '';\n",
              "          dataTable['output_type'] = 'display_data';\n",
              "          await google.colab.output.renderOutput(dataTable, element);\n",
              "          const docLink = document.createElement('div');\n",
              "          docLink.innerHTML = docLinkHtml;\n",
              "          element.appendChild(docLink);\n",
              "        }\n",
              "      </script>\n",
              "    </div>\n",
              "  </div>\n"
            ]
          },
          "metadata": {},
          "execution_count": 1
        }
      ]
    },
    {
      "cell_type": "code",
      "source": [
        "#Stats for all numeric values in dataset. Good for introducing the data to audience with basic stats such as min/max and average.\n",
        "shl_data[['slpduration','actlevel','qltsleep','stresslevel','Age','HeartRate','DailySteps']].describe()"
      ],
      "metadata": {
        "id": "XO7vuP2bOFEk",
        "colab": {
          "base_uri": "https://localhost:8080/",
          "height": 300
        },
        "outputId": "84c449b8-bea8-4844-e84b-6c98415a3b17"
      },
      "execution_count": 2,
      "outputs": [
        {
          "output_type": "execute_result",
          "data": {
            "text/plain": [
              "       slpduration    actlevel    qltsleep  stresslevel         Age  \\\n",
              "count   374.000000  374.000000  374.000000   374.000000  374.000000   \n",
              "mean      7.132086   59.171123    7.312834     5.385027   42.184492   \n",
              "std       0.795657   20.830804    1.196956     1.774526    8.673133   \n",
              "min       5.800000   30.000000    4.000000     3.000000   27.000000   \n",
              "25%       6.400000   45.000000    6.000000     4.000000   35.250000   \n",
              "50%       7.200000   60.000000    7.000000     5.000000   43.000000   \n",
              "75%       7.800000   75.000000    8.000000     7.000000   50.000000   \n",
              "max       8.500000   90.000000    9.000000     8.000000   59.000000   \n",
              "\n",
              "        HeartRate    DailySteps  \n",
              "count  374.000000    374.000000  \n",
              "mean    70.165775   6816.844920  \n",
              "std      4.135676   1617.915679  \n",
              "min     65.000000   3000.000000  \n",
              "25%     68.000000   5600.000000  \n",
              "50%     70.000000   7000.000000  \n",
              "75%     72.000000   8000.000000  \n",
              "max     86.000000  10000.000000  "
            ],
            "text/html": [
              "\n",
              "\n",
              "  <div id=\"df-3f161021-c6cb-4a2e-9c1c-8cbe6b84d9b6\">\n",
              "    <div class=\"colab-df-container\">\n",
              "      <div>\n",
              "<style scoped>\n",
              "    .dataframe tbody tr th:only-of-type {\n",
              "        vertical-align: middle;\n",
              "    }\n",
              "\n",
              "    .dataframe tbody tr th {\n",
              "        vertical-align: top;\n",
              "    }\n",
              "\n",
              "    .dataframe thead th {\n",
              "        text-align: right;\n",
              "    }\n",
              "</style>\n",
              "<table border=\"1\" class=\"dataframe\">\n",
              "  <thead>\n",
              "    <tr style=\"text-align: right;\">\n",
              "      <th></th>\n",
              "      <th>slpduration</th>\n",
              "      <th>actlevel</th>\n",
              "      <th>qltsleep</th>\n",
              "      <th>stresslevel</th>\n",
              "      <th>Age</th>\n",
              "      <th>HeartRate</th>\n",
              "      <th>DailySteps</th>\n",
              "    </tr>\n",
              "  </thead>\n",
              "  <tbody>\n",
              "    <tr>\n",
              "      <th>count</th>\n",
              "      <td>374.000000</td>\n",
              "      <td>374.000000</td>\n",
              "      <td>374.000000</td>\n",
              "      <td>374.000000</td>\n",
              "      <td>374.000000</td>\n",
              "      <td>374.000000</td>\n",
              "      <td>374.000000</td>\n",
              "    </tr>\n",
              "    <tr>\n",
              "      <th>mean</th>\n",
              "      <td>7.132086</td>\n",
              "      <td>59.171123</td>\n",
              "      <td>7.312834</td>\n",
              "      <td>5.385027</td>\n",
              "      <td>42.184492</td>\n",
              "      <td>70.165775</td>\n",
              "      <td>6816.844920</td>\n",
              "    </tr>\n",
              "    <tr>\n",
              "      <th>std</th>\n",
              "      <td>0.795657</td>\n",
              "      <td>20.830804</td>\n",
              "      <td>1.196956</td>\n",
              "      <td>1.774526</td>\n",
              "      <td>8.673133</td>\n",
              "      <td>4.135676</td>\n",
              "      <td>1617.915679</td>\n",
              "    </tr>\n",
              "    <tr>\n",
              "      <th>min</th>\n",
              "      <td>5.800000</td>\n",
              "      <td>30.000000</td>\n",
              "      <td>4.000000</td>\n",
              "      <td>3.000000</td>\n",
              "      <td>27.000000</td>\n",
              "      <td>65.000000</td>\n",
              "      <td>3000.000000</td>\n",
              "    </tr>\n",
              "    <tr>\n",
              "      <th>25%</th>\n",
              "      <td>6.400000</td>\n",
              "      <td>45.000000</td>\n",
              "      <td>6.000000</td>\n",
              "      <td>4.000000</td>\n",
              "      <td>35.250000</td>\n",
              "      <td>68.000000</td>\n",
              "      <td>5600.000000</td>\n",
              "    </tr>\n",
              "    <tr>\n",
              "      <th>50%</th>\n",
              "      <td>7.200000</td>\n",
              "      <td>60.000000</td>\n",
              "      <td>7.000000</td>\n",
              "      <td>5.000000</td>\n",
              "      <td>43.000000</td>\n",
              "      <td>70.000000</td>\n",
              "      <td>7000.000000</td>\n",
              "    </tr>\n",
              "    <tr>\n",
              "      <th>75%</th>\n",
              "      <td>7.800000</td>\n",
              "      <td>75.000000</td>\n",
              "      <td>8.000000</td>\n",
              "      <td>7.000000</td>\n",
              "      <td>50.000000</td>\n",
              "      <td>72.000000</td>\n",
              "      <td>8000.000000</td>\n",
              "    </tr>\n",
              "    <tr>\n",
              "      <th>max</th>\n",
              "      <td>8.500000</td>\n",
              "      <td>90.000000</td>\n",
              "      <td>9.000000</td>\n",
              "      <td>8.000000</td>\n",
              "      <td>59.000000</td>\n",
              "      <td>86.000000</td>\n",
              "      <td>10000.000000</td>\n",
              "    </tr>\n",
              "  </tbody>\n",
              "</table>\n",
              "</div>\n",
              "      <button class=\"colab-df-convert\" onclick=\"convertToInteractive('df-3f161021-c6cb-4a2e-9c1c-8cbe6b84d9b6')\"\n",
              "              title=\"Convert this dataframe to an interactive table.\"\n",
              "              style=\"display:none;\">\n",
              "\n",
              "  <svg xmlns=\"http://www.w3.org/2000/svg\" height=\"24px\"viewBox=\"0 0 24 24\"\n",
              "       width=\"24px\">\n",
              "    <path d=\"M0 0h24v24H0V0z\" fill=\"none\"/>\n",
              "    <path d=\"M18.56 5.44l.94 2.06.94-2.06 2.06-.94-2.06-.94-.94-2.06-.94 2.06-2.06.94zm-11 1L8.5 8.5l.94-2.06 2.06-.94-2.06-.94L8.5 2.5l-.94 2.06-2.06.94zm10 10l.94 2.06.94-2.06 2.06-.94-2.06-.94-.94-2.06-.94 2.06-2.06.94z\"/><path d=\"M17.41 7.96l-1.37-1.37c-.4-.4-.92-.59-1.43-.59-.52 0-1.04.2-1.43.59L10.3 9.45l-7.72 7.72c-.78.78-.78 2.05 0 2.83L4 21.41c.39.39.9.59 1.41.59.51 0 1.02-.2 1.41-.59l7.78-7.78 2.81-2.81c.8-.78.8-2.07 0-2.86zM5.41 20L4 18.59l7.72-7.72 1.47 1.35L5.41 20z\"/>\n",
              "  </svg>\n",
              "      </button>\n",
              "\n",
              "\n",
              "\n",
              "    <div id=\"df-4f067f6b-1cfd-456e-9a39-15d8e8baa36c\">\n",
              "      <button class=\"colab-df-quickchart\" onclick=\"quickchart('df-4f067f6b-1cfd-456e-9a39-15d8e8baa36c')\"\n",
              "              title=\"Suggest charts.\"\n",
              "              style=\"display:none;\">\n",
              "\n",
              "<svg xmlns=\"http://www.w3.org/2000/svg\" height=\"24px\"viewBox=\"0 0 24 24\"\n",
              "     width=\"24px\">\n",
              "    <g>\n",
              "        <path d=\"M19 3H5c-1.1 0-2 .9-2 2v14c0 1.1.9 2 2 2h14c1.1 0 2-.9 2-2V5c0-1.1-.9-2-2-2zM9 17H7v-7h2v7zm4 0h-2V7h2v10zm4 0h-2v-4h2v4z\"/>\n",
              "    </g>\n",
              "</svg>\n",
              "      </button>\n",
              "    </div>\n",
              "\n",
              "<style>\n",
              "  .colab-df-quickchart {\n",
              "    background-color: #E8F0FE;\n",
              "    border: none;\n",
              "    border-radius: 50%;\n",
              "    cursor: pointer;\n",
              "    display: none;\n",
              "    fill: #1967D2;\n",
              "    height: 32px;\n",
              "    padding: 0 0 0 0;\n",
              "    width: 32px;\n",
              "  }\n",
              "\n",
              "  .colab-df-quickchart:hover {\n",
              "    background-color: #E2EBFA;\n",
              "    box-shadow: 0px 1px 2px rgba(60, 64, 67, 0.3), 0px 1px 3px 1px rgba(60, 64, 67, 0.15);\n",
              "    fill: #174EA6;\n",
              "  }\n",
              "\n",
              "  [theme=dark] .colab-df-quickchart {\n",
              "    background-color: #3B4455;\n",
              "    fill: #D2E3FC;\n",
              "  }\n",
              "\n",
              "  [theme=dark] .colab-df-quickchart:hover {\n",
              "    background-color: #434B5C;\n",
              "    box-shadow: 0px 1px 3px 1px rgba(0, 0, 0, 0.15);\n",
              "    filter: drop-shadow(0px 1px 2px rgba(0, 0, 0, 0.3));\n",
              "    fill: #FFFFFF;\n",
              "  }\n",
              "</style>\n",
              "\n",
              "    <script>\n",
              "      async function quickchart(key) {\n",
              "        const containerElement = document.querySelector('#' + key);\n",
              "        const charts = await google.colab.kernel.invokeFunction(\n",
              "            'suggestCharts', [key], {});\n",
              "      }\n",
              "    </script>\n",
              "\n",
              "      <script>\n",
              "\n",
              "function displayQuickchartButton(domScope) {\n",
              "  let quickchartButtonEl =\n",
              "    domScope.querySelector('#df-4f067f6b-1cfd-456e-9a39-15d8e8baa36c button.colab-df-quickchart');\n",
              "  quickchartButtonEl.style.display =\n",
              "    google.colab.kernel.accessAllowed ? 'block' : 'none';\n",
              "}\n",
              "\n",
              "        displayQuickchartButton(document);\n",
              "      </script>\n",
              "      <style>\n",
              "    .colab-df-container {\n",
              "      display:flex;\n",
              "      flex-wrap:wrap;\n",
              "      gap: 12px;\n",
              "    }\n",
              "\n",
              "    .colab-df-convert {\n",
              "      background-color: #E8F0FE;\n",
              "      border: none;\n",
              "      border-radius: 50%;\n",
              "      cursor: pointer;\n",
              "      display: none;\n",
              "      fill: #1967D2;\n",
              "      height: 32px;\n",
              "      padding: 0 0 0 0;\n",
              "      width: 32px;\n",
              "    }\n",
              "\n",
              "    .colab-df-convert:hover {\n",
              "      background-color: #E2EBFA;\n",
              "      box-shadow: 0px 1px 2px rgba(60, 64, 67, 0.3), 0px 1px 3px 1px rgba(60, 64, 67, 0.15);\n",
              "      fill: #174EA6;\n",
              "    }\n",
              "\n",
              "    [theme=dark] .colab-df-convert {\n",
              "      background-color: #3B4455;\n",
              "      fill: #D2E3FC;\n",
              "    }\n",
              "\n",
              "    [theme=dark] .colab-df-convert:hover {\n",
              "      background-color: #434B5C;\n",
              "      box-shadow: 0px 1px 3px 1px rgba(0, 0, 0, 0.15);\n",
              "      filter: drop-shadow(0px 1px 2px rgba(0, 0, 0, 0.3));\n",
              "      fill: #FFFFFF;\n",
              "    }\n",
              "  </style>\n",
              "\n",
              "      <script>\n",
              "        const buttonEl =\n",
              "          document.querySelector('#df-3f161021-c6cb-4a2e-9c1c-8cbe6b84d9b6 button.colab-df-convert');\n",
              "        buttonEl.style.display =\n",
              "          google.colab.kernel.accessAllowed ? 'block' : 'none';\n",
              "\n",
              "        async function convertToInteractive(key) {\n",
              "          const element = document.querySelector('#df-3f161021-c6cb-4a2e-9c1c-8cbe6b84d9b6');\n",
              "          const dataTable =\n",
              "            await google.colab.kernel.invokeFunction('convertToInteractive',\n",
              "                                                     [key], {});\n",
              "          if (!dataTable) return;\n",
              "\n",
              "          const docLinkHtml = 'Like what you see? Visit the ' +\n",
              "            '<a target=\"_blank\" href=https://colab.research.google.com/notebooks/data_table.ipynb>data table notebook</a>'\n",
              "            + ' to learn more about interactive tables.';\n",
              "          element.innerHTML = '';\n",
              "          dataTable['output_type'] = 'display_data';\n",
              "          await google.colab.output.renderOutput(dataTable, element);\n",
              "          const docLink = document.createElement('div');\n",
              "          docLink.innerHTML = docLinkHtml;\n",
              "          element.appendChild(docLink);\n",
              "        }\n",
              "      </script>\n",
              "    </div>\n",
              "  </div>\n"
            ]
          },
          "metadata": {},
          "execution_count": 2
        }
      ]
    },
    {
      "cell_type": "code",
      "source": [
        "#list of possible potential outcomes for BMI Category. (quick glance info for audience)\n",
        "shl_data['BMICategory'].unique()"
      ],
      "metadata": {
        "id": "COrpUAiKeXR0",
        "colab": {
          "base_uri": "https://localhost:8080/"
        },
        "outputId": "1207c112-5d64-452f-c03e-1a47352987f2"
      },
      "execution_count": 3,
      "outputs": [
        {
          "output_type": "execute_result",
          "data": {
            "text/plain": [
              "array(['Overweight', 'Normal', 'Obese', 'Normal Weight'], dtype=object)"
            ]
          },
          "metadata": {},
          "execution_count": 3
        }
      ]
    },
    {
      "cell_type": "code",
      "source": [
        "#list of possible potential outcomes for Sleep Disorders. (quick glance info for audience)\n",
        "shl_data['SleepDisorder'].unique()"
      ],
      "metadata": {
        "id": "NF3NFBJxfVoZ",
        "colab": {
          "base_uri": "https://localhost:8080/"
        },
        "outputId": "2329a131-4966-4580-ed40-c5a0dc8a8f15"
      },
      "execution_count": 4,
      "outputs": [
        {
          "output_type": "execute_result",
          "data": {
            "text/plain": [
              "array(['None', 'Sleep Apnea', 'Insomnia'], dtype=object)"
            ]
          },
          "metadata": {},
          "execution_count": 4
        }
      ]
    },
    {
      "cell_type": "code",
      "source": [
        "#Checking correlation between sleep duration, quality of sleep, phyiscal activity & stress levels\n",
        "shl_data[['slpduration','qltsleep','actlevel','stresslevel']].corr()"
      ],
      "metadata": {
        "id": "lG6DKaQDLyc6",
        "colab": {
          "base_uri": "https://localhost:8080/",
          "height": 175
        },
        "outputId": "1a45c438-ceb2-4a64-dc1b-08f0b1da596c"
      },
      "execution_count": 5,
      "outputs": [
        {
          "output_type": "execute_result",
          "data": {
            "text/plain": [
              "             slpduration  qltsleep  actlevel  stresslevel\n",
              "slpduration     1.000000  0.883213  0.212360    -0.811023\n",
              "qltsleep        0.883213  1.000000  0.192896    -0.898752\n",
              "actlevel        0.212360  0.192896  1.000000    -0.034134\n",
              "stresslevel    -0.811023 -0.898752 -0.034134     1.000000"
            ],
            "text/html": [
              "\n",
              "\n",
              "  <div id=\"df-40bdb958-6e4a-4257-bd0f-03d2a107d5b2\">\n",
              "    <div class=\"colab-df-container\">\n",
              "      <div>\n",
              "<style scoped>\n",
              "    .dataframe tbody tr th:only-of-type {\n",
              "        vertical-align: middle;\n",
              "    }\n",
              "\n",
              "    .dataframe tbody tr th {\n",
              "        vertical-align: top;\n",
              "    }\n",
              "\n",
              "    .dataframe thead th {\n",
              "        text-align: right;\n",
              "    }\n",
              "</style>\n",
              "<table border=\"1\" class=\"dataframe\">\n",
              "  <thead>\n",
              "    <tr style=\"text-align: right;\">\n",
              "      <th></th>\n",
              "      <th>slpduration</th>\n",
              "      <th>qltsleep</th>\n",
              "      <th>actlevel</th>\n",
              "      <th>stresslevel</th>\n",
              "    </tr>\n",
              "  </thead>\n",
              "  <tbody>\n",
              "    <tr>\n",
              "      <th>slpduration</th>\n",
              "      <td>1.000000</td>\n",
              "      <td>0.883213</td>\n",
              "      <td>0.212360</td>\n",
              "      <td>-0.811023</td>\n",
              "    </tr>\n",
              "    <tr>\n",
              "      <th>qltsleep</th>\n",
              "      <td>0.883213</td>\n",
              "      <td>1.000000</td>\n",
              "      <td>0.192896</td>\n",
              "      <td>-0.898752</td>\n",
              "    </tr>\n",
              "    <tr>\n",
              "      <th>actlevel</th>\n",
              "      <td>0.212360</td>\n",
              "      <td>0.192896</td>\n",
              "      <td>1.000000</td>\n",
              "      <td>-0.034134</td>\n",
              "    </tr>\n",
              "    <tr>\n",
              "      <th>stresslevel</th>\n",
              "      <td>-0.811023</td>\n",
              "      <td>-0.898752</td>\n",
              "      <td>-0.034134</td>\n",
              "      <td>1.000000</td>\n",
              "    </tr>\n",
              "  </tbody>\n",
              "</table>\n",
              "</div>\n",
              "      <button class=\"colab-df-convert\" onclick=\"convertToInteractive('df-40bdb958-6e4a-4257-bd0f-03d2a107d5b2')\"\n",
              "              title=\"Convert this dataframe to an interactive table.\"\n",
              "              style=\"display:none;\">\n",
              "\n",
              "  <svg xmlns=\"http://www.w3.org/2000/svg\" height=\"24px\"viewBox=\"0 0 24 24\"\n",
              "       width=\"24px\">\n",
              "    <path d=\"M0 0h24v24H0V0z\" fill=\"none\"/>\n",
              "    <path d=\"M18.56 5.44l.94 2.06.94-2.06 2.06-.94-2.06-.94-.94-2.06-.94 2.06-2.06.94zm-11 1L8.5 8.5l.94-2.06 2.06-.94-2.06-.94L8.5 2.5l-.94 2.06-2.06.94zm10 10l.94 2.06.94-2.06 2.06-.94-2.06-.94-.94-2.06-.94 2.06-2.06.94z\"/><path d=\"M17.41 7.96l-1.37-1.37c-.4-.4-.92-.59-1.43-.59-.52 0-1.04.2-1.43.59L10.3 9.45l-7.72 7.72c-.78.78-.78 2.05 0 2.83L4 21.41c.39.39.9.59 1.41.59.51 0 1.02-.2 1.41-.59l7.78-7.78 2.81-2.81c.8-.78.8-2.07 0-2.86zM5.41 20L4 18.59l7.72-7.72 1.47 1.35L5.41 20z\"/>\n",
              "  </svg>\n",
              "      </button>\n",
              "\n",
              "\n",
              "\n",
              "    <div id=\"df-de9c9b6e-1af4-49a4-bd3f-aa742db71508\">\n",
              "      <button class=\"colab-df-quickchart\" onclick=\"quickchart('df-de9c9b6e-1af4-49a4-bd3f-aa742db71508')\"\n",
              "              title=\"Suggest charts.\"\n",
              "              style=\"display:none;\">\n",
              "\n",
              "<svg xmlns=\"http://www.w3.org/2000/svg\" height=\"24px\"viewBox=\"0 0 24 24\"\n",
              "     width=\"24px\">\n",
              "    <g>\n",
              "        <path d=\"M19 3H5c-1.1 0-2 .9-2 2v14c0 1.1.9 2 2 2h14c1.1 0 2-.9 2-2V5c0-1.1-.9-2-2-2zM9 17H7v-7h2v7zm4 0h-2V7h2v10zm4 0h-2v-4h2v4z\"/>\n",
              "    </g>\n",
              "</svg>\n",
              "      </button>\n",
              "    </div>\n",
              "\n",
              "<style>\n",
              "  .colab-df-quickchart {\n",
              "    background-color: #E8F0FE;\n",
              "    border: none;\n",
              "    border-radius: 50%;\n",
              "    cursor: pointer;\n",
              "    display: none;\n",
              "    fill: #1967D2;\n",
              "    height: 32px;\n",
              "    padding: 0 0 0 0;\n",
              "    width: 32px;\n",
              "  }\n",
              "\n",
              "  .colab-df-quickchart:hover {\n",
              "    background-color: #E2EBFA;\n",
              "    box-shadow: 0px 1px 2px rgba(60, 64, 67, 0.3), 0px 1px 3px 1px rgba(60, 64, 67, 0.15);\n",
              "    fill: #174EA6;\n",
              "  }\n",
              "\n",
              "  [theme=dark] .colab-df-quickchart {\n",
              "    background-color: #3B4455;\n",
              "    fill: #D2E3FC;\n",
              "  }\n",
              "\n",
              "  [theme=dark] .colab-df-quickchart:hover {\n",
              "    background-color: #434B5C;\n",
              "    box-shadow: 0px 1px 3px 1px rgba(0, 0, 0, 0.15);\n",
              "    filter: drop-shadow(0px 1px 2px rgba(0, 0, 0, 0.3));\n",
              "    fill: #FFFFFF;\n",
              "  }\n",
              "</style>\n",
              "\n",
              "    <script>\n",
              "      async function quickchart(key) {\n",
              "        const containerElement = document.querySelector('#' + key);\n",
              "        const charts = await google.colab.kernel.invokeFunction(\n",
              "            'suggestCharts', [key], {});\n",
              "      }\n",
              "    </script>\n",
              "\n",
              "      <script>\n",
              "\n",
              "function displayQuickchartButton(domScope) {\n",
              "  let quickchartButtonEl =\n",
              "    domScope.querySelector('#df-de9c9b6e-1af4-49a4-bd3f-aa742db71508 button.colab-df-quickchart');\n",
              "  quickchartButtonEl.style.display =\n",
              "    google.colab.kernel.accessAllowed ? 'block' : 'none';\n",
              "}\n",
              "\n",
              "        displayQuickchartButton(document);\n",
              "      </script>\n",
              "      <style>\n",
              "    .colab-df-container {\n",
              "      display:flex;\n",
              "      flex-wrap:wrap;\n",
              "      gap: 12px;\n",
              "    }\n",
              "\n",
              "    .colab-df-convert {\n",
              "      background-color: #E8F0FE;\n",
              "      border: none;\n",
              "      border-radius: 50%;\n",
              "      cursor: pointer;\n",
              "      display: none;\n",
              "      fill: #1967D2;\n",
              "      height: 32px;\n",
              "      padding: 0 0 0 0;\n",
              "      width: 32px;\n",
              "    }\n",
              "\n",
              "    .colab-df-convert:hover {\n",
              "      background-color: #E2EBFA;\n",
              "      box-shadow: 0px 1px 2px rgba(60, 64, 67, 0.3), 0px 1px 3px 1px rgba(60, 64, 67, 0.15);\n",
              "      fill: #174EA6;\n",
              "    }\n",
              "\n",
              "    [theme=dark] .colab-df-convert {\n",
              "      background-color: #3B4455;\n",
              "      fill: #D2E3FC;\n",
              "    }\n",
              "\n",
              "    [theme=dark] .colab-df-convert:hover {\n",
              "      background-color: #434B5C;\n",
              "      box-shadow: 0px 1px 3px 1px rgba(0, 0, 0, 0.15);\n",
              "      filter: drop-shadow(0px 1px 2px rgba(0, 0, 0, 0.3));\n",
              "      fill: #FFFFFF;\n",
              "    }\n",
              "  </style>\n",
              "\n",
              "      <script>\n",
              "        const buttonEl =\n",
              "          document.querySelector('#df-40bdb958-6e4a-4257-bd0f-03d2a107d5b2 button.colab-df-convert');\n",
              "        buttonEl.style.display =\n",
              "          google.colab.kernel.accessAllowed ? 'block' : 'none';\n",
              "\n",
              "        async function convertToInteractive(key) {\n",
              "          const element = document.querySelector('#df-40bdb958-6e4a-4257-bd0f-03d2a107d5b2');\n",
              "          const dataTable =\n",
              "            await google.colab.kernel.invokeFunction('convertToInteractive',\n",
              "                                                     [key], {});\n",
              "          if (!dataTable) return;\n",
              "\n",
              "          const docLinkHtml = 'Like what you see? Visit the ' +\n",
              "            '<a target=\"_blank\" href=https://colab.research.google.com/notebooks/data_table.ipynb>data table notebook</a>'\n",
              "            + ' to learn more about interactive tables.';\n",
              "          element.innerHTML = '';\n",
              "          dataTable['output_type'] = 'display_data';\n",
              "          await google.colab.output.renderOutput(dataTable, element);\n",
              "          const docLink = document.createElement('div');\n",
              "          docLink.innerHTML = docLinkHtml;\n",
              "          element.appendChild(docLink);\n",
              "        }\n",
              "      </script>\n",
              "    </div>\n",
              "  </div>\n"
            ]
          },
          "metadata": {},
          "execution_count": 5
        }
      ]
    },
    {
      "cell_type": "code",
      "source": [
        "#Eyechecking histograms of each main variable we are looking at\n",
        "sns.histplot(shl_data['stresslevel'])"
      ],
      "metadata": {
        "id": "FiHzipwsMXxr",
        "colab": {
          "base_uri": "https://localhost:8080/",
          "height": 466
        },
        "outputId": "414cdb32-3e2f-46e2-80cb-cdd607ab75ad"
      },
      "execution_count": 6,
      "outputs": [
        {
          "output_type": "execute_result",
          "data": {
            "text/plain": [
              "<Axes: xlabel='stresslevel', ylabel='Count'>"
            ]
          },
          "metadata": {},
          "execution_count": 6
        },
        {
          "output_type": "display_data",
          "data": {
            "text/plain": [
              "<Figure size 640x480 with 1 Axes>"
            ],
            "image/png": "[encoded data removed]"
          },
          "metadata": {}
        }
      ]
    },
    {
      "cell_type": "code",
      "source": [
        "#as expected qlt of sleep being subjective has a slightly skewed histogram\n",
        "sns.histplot(shl_data['qltsleep'])"
      ],
      "metadata": {
        "id": "NB1Ge2M9M4Pq",
        "colab": {
          "base_uri": "https://localhost:8080/",
          "height": 466
        },
        "outputId": "57a1e3a4-649c-472b-ed79-e1255b3014a9"
      },
      "execution_count": 7,
      "outputs": [
        {
          "output_type": "execute_result",
          "data": {
            "text/plain": [
              "<Axes: xlabel='qltsleep', ylabel='Count'>"
            ]
          },
          "metadata": {},
          "execution_count": 7
        },
        {
          "output_type": "display_data",
          "data": {
            "text/plain": [
              "<Figure size 640x480 with 1 Axes>"
            ],
            "image/png": "[encoded data removed]"
          },
          "metadata": {}
        }
      ]
    },
    {
      "cell_type": "code",
      "source": [
        "sns.histplot(shl_data['slpduration'])"
      ],
      "metadata": {
        "id": "q1Z6IMnBNGjj",
        "colab": {
          "base_uri": "https://localhost:8080/",
          "height": 466
        },
        "outputId": "a4ecef5a-067d-4b48-f60a-2b16b33c411f"
      },
      "execution_count": 8,
      "outputs": [
        {
          "output_type": "execute_result",
          "data": {
            "text/plain": [
              "<Axes: xlabel='slpduration', ylabel='Count'>"
            ]
          },
          "metadata": {},
          "execution_count": 8
        },
        {
          "output_type": "display_data",
          "data": {
            "text/plain": [
              "<Figure size 640x480 with 1 Axes>"
            ],
            "image/png": "[encoded data removed]"
          },
          "metadata": {}
        }
      ]
    },
    {
      "cell_type": "code",
      "source": [
        "sns.histplot(shl_data['actlevel'])"
      ],
      "metadata": {
        "id": "uW7sDCNqNGuM",
        "colab": {
          "base_uri": "https://localhost:8080/",
          "height": 466
        },
        "outputId": "c77278fb-53f7-4c1f-8ef3-fd7395844447"
      },
      "execution_count": 9,
      "outputs": [
        {
          "output_type": "execute_result",
          "data": {
            "text/plain": [
              "<Axes: xlabel='actlevel', ylabel='Count'>"
            ]
          },
          "metadata": {},
          "execution_count": 9
        },
        {
          "output_type": "display_data",
          "data": {
            "text/plain": [
              "<Figure size 640x480 with 1 Axes>"
            ],
            "image/png": "[encoded data removed]"
          },
          "metadata": {}
        }
      ]
    },
    {
      "cell_type": "code",
      "source": [
        "#Statistical Signfigance of Correlations (p-value less than 0.05 shows signifigance)\n",
        "stats.pearsonr(shl_data['qltsleep'], shl_data['slpduration'])"
      ],
      "metadata": {
        "id": "TJfEXzgRhyNO",
        "colab": {
          "base_uri": "https://localhost:8080/"
        },
        "outputId": "79973919-d067-4f00-d25d-293bf624ae5a"
      },
      "execution_count": 10,
      "outputs": [
        {
          "output_type": "execute_result",
          "data": {
            "text/plain": [
              "PearsonRResult(statistic=0.8832130004106182, pvalue=2.170991770864778e-124)"
            ]
          },
          "metadata": {},
          "execution_count": 10
        }
      ]
    },
    {
      "cell_type": "code",
      "source": [
        "stats.pearsonr(shl_data['qltsleep'], shl_data['actlevel'])"
      ],
      "metadata": {
        "id": "Pc-ic01so9gt",
        "colab": {
          "base_uri": "https://localhost:8080/"
        },
        "outputId": "33d60be3-61bb-4ead-8be2-b9377107e6dc"
      },
      "execution_count": 11,
      "outputs": [
        {
          "output_type": "execute_result",
          "data": {
            "text/plain": [
              "PearsonRResult(statistic=0.19289645493975327, pvalue=0.00017454895247838732)"
            ]
          },
          "metadata": {},
          "execution_count": 11
        }
      ]
    },
    {
      "cell_type": "code",
      "source": [
        "stats.pearsonr(shl_data['qltsleep'], shl_data['stresslevel'])"
      ],
      "metadata": {
        "id": "9KJPiV7yo_Dj",
        "colab": {
          "base_uri": "https://localhost:8080/"
        },
        "outputId": "5f93a7a7-3929-4b99-c355-31ae7381ac2f"
      },
      "execution_count": 12,
      "outputs": [
        {
          "output_type": "execute_result",
          "data": {
            "text/plain": [
              "PearsonRResult(statistic=-0.8987520310040418, pvalue=2.880124240942281e-135)"
            ]
          },
          "metadata": {},
          "execution_count": 12
        }
      ]
    },
    {
      "cell_type": "code",
      "source": [
        "#ttest for each correlations (p-value < 0.05 is significant outcome) (reject null if statistics is greater than 1.96 OR p-value is less than 0.05)\n",
        "stats.ttest_ind(shl_data['qltsleep'], shl_data['slpduration'])"
      ],
      "metadata": {
        "id": "6SDt4I-mkMfy",
        "colab": {
          "base_uri": "https://localhost:8080/"
        },
        "outputId": "0ec5d0f3-8fc0-4b64-f6ad-2556e8cfe0c1"
      },
      "execution_count": 14,
      "outputs": [
        {
          "output_type": "execute_result",
          "data": {
            "text/plain": [
              "Ttest_indResult(statistic=2.432033681094019, pvalue=0.015248576818668575)"
            ]
          },
          "metadata": {},
          "execution_count": 14
        }
      ]
    },
    {
      "cell_type": "code",
      "source": [
        "stats.ttest_ind(shl_data['qltsleep'], shl_data['actlevel'])"
      ],
      "metadata": {
        "id": "0fwmbLNhpLqf",
        "colab": {
          "base_uri": "https://localhost:8080/"
        },
        "outputId": "c633f8f8-acc4-449c-c6a0-1637d72c8390"
      },
      "execution_count": 15,
      "outputs": [
        {
          "output_type": "execute_result",
          "data": {
            "text/plain": [
              "Ttest_indResult(statistic=-48.06535700287785, pvalue=1.20398459955458e-230)"
            ]
          },
          "metadata": {},
          "execution_count": 15
        }
      ]
    },
    {
      "cell_type": "code",
      "source": [
        "stats.ttest_ind(shl_data['qltsleep'], shl_data['stresslevel'])"
      ],
      "metadata": {
        "id": "8PdO7Bl8pNfk",
        "colab": {
          "base_uri": "https://localhost:8080/"
        },
        "outputId": "18ebf774-a00b-48d2-efe4-9f77d8d8dd7b"
      },
      "execution_count": 16,
      "outputs": [
        {
          "output_type": "execute_result",
          "data": {
            "text/plain": [
              "Ttest_indResult(statistic=17.417612476938828, pvalue=2.872009542633297e-57)"
            ]
          },
          "metadata": {},
          "execution_count": 16
        }
      ]
    },
    {
      "cell_type": "code",
      "source": [
        "#Scatterplot showing increased sleep duration often leads to higer perceived quality of sleep which shows a correlation to lower levels of stress\n",
        "sns.scatterplot(x='slpduration', y='qltsleep', hue='stresslevel', data=shl_data)"
      ],
      "metadata": {
        "id": "P4huWUactrxJ",
        "colab": {
          "base_uri": "https://localhost:8080/",
          "height": 466
        },
        "outputId": "6742ea13-f6cd-432a-eb54-8dd11afc7137"
      },
      "execution_count": 13,
      "outputs": [
        {
          "output_type": "execute_result",
          "data": {
            "text/plain": [
              "<Axes: xlabel='slpduration', ylabel='qltsleep'>"
            ]
          },
          "metadata": {},
          "execution_count": 13
        },
        {
          "output_type": "display_data",
          "data": {
            "text/plain": [
              "<Figure size 640x480 with 1 Axes>"
            ],
            "image/png": "[encoded data removed]"
          },
          "metadata": {}
        }
      ]
    },
    {
      "cell_type": "code",
      "source": [
        "#Scatterplot showing increased activity levels seem to not have a signifigant impact on qlt of sleep\n",
        "sns.scatterplot(x='actlevel', y='qltsleep', hue='stresslevel', data=shl_data)\n",
        "plt.legend(loc='lower center')"
      ],
      "metadata": {
        "id": "ghnq8cJ7V6yy",
        "colab": {
          "base_uri": "https://localhost:8080/",
          "height": 466
        },
        "outputId": "d956dc93-9e6a-4b70-c890-082fe8f6d085"
      },
      "execution_count": 17,
      "outputs": [
        {
          "output_type": "execute_result",
          "data": {
            "text/plain": [
              "<matplotlib.legend.Legend at 0x7f7a742827d0>"
            ]
          },
          "metadata": {},
          "execution_count": 17
        },
        {
          "output_type": "display_data",
          "data": {
            "text/plain": [
              "<Figure size 640x480 with 1 Axes>"
            ],
            "image/png": "[encoded data removed]"
          },
          "metadata": {}
        }
      ]
    },
    {
      "cell_type": "code",
      "source": [
        "#BoxPlot showing a positive correlation between an increased amount of sleep leading to a better percieved quality of sleep\n",
        "sns.boxplot(y='slpduration', x='qltsleep', data=shl_data)"
      ],
      "metadata": {
        "id": "CdAMX0h2v1yi",
        "colab": {
          "base_uri": "https://localhost:8080/",
          "height": 466
        },
        "outputId": "b4e4c032-31d0-4390-c7b4-4eb2bc735802"
      },
      "execution_count": 18,
      "outputs": [
        {
          "output_type": "execute_result",
          "data": {
            "text/plain": [
              "<Axes: xlabel='qltsleep', ylabel='slpduration'>"
            ]
          },
          "metadata": {},
          "execution_count": 18
        },
        {
          "output_type": "display_data",
          "data": {
            "text/plain": [
              "<Figure size 640x480 with 1 Axes>"
            ],
            "image/png": "[encoded data removed]"
          },
          "metadata": {}
        }
      ]
    },
    {
      "cell_type": "code",
      "source": [
        "#BoxPlot showing a negative correlation between a lower levels of perceieved stress leading to increased perceived levels of quality of sleep and vice versa\n",
        "sns.boxplot(y='stresslevel', x='qltsleep', data=shl_data)"
      ],
      "metadata": {
        "id": "eeNwgRpqTf0j",
        "colab": {
          "base_uri": "https://localhost:8080/",
          "height": 466
        },
        "outputId": "d16e2ea9-95fd-4bff-fe50-cf8efb4d2a70"
      },
      "execution_count": 19,
      "outputs": [
        {
          "output_type": "execute_result",
          "data": {
            "text/plain": [
              "<Axes: xlabel='qltsleep', ylabel='stresslevel'>"
            ]
          },
          "metadata": {},
          "execution_count": 19
        },
        {
          "output_type": "display_data",
          "data": {
            "text/plain": [
              "<Figure size 640x480 with 1 Axes>"
            ],
            "image/png": "[encoded data removed]"
          },
          "metadata": {}
        }
      ]
    },
    {
      "cell_type": "code",
      "source": [
        "#Splitting Dataset by Sleepdisorder. mostly did this for audience purposes, graphs show visual that potential patients with insomnia or sleep apnea are at risk of lower sleep durations which in turn has a significant correlation of percieved stress levels.\n",
        "sleepdisorder_no = shl_data[(shl_data['SleepDisorder'] == 'None')]\n",
        "sleepdisorder_no.info()\n",
        "\n",
        "sleepdisorder_yes = shl_data[(shl_data['SleepDisorder'] == 'Insomnia')]\n",
        "sleepdisorder_yes.info()\n",
        "\n",
        "sleepdisorder_yes2 = shl_data[(shl_data['SleepDisorder'] == 'Sleep Apnea')]\n",
        "sleepdisorder_yes2.info()\n",
        "\n",
        "#PlottingData showing duration of sleep compared to sleep disorders\n",
        "plt.hist(sleepdisorder_yes['slpduration'], alpha = .5, label = 'Insomnia')\n",
        "plt.hist(sleepdisorder_no['slpduration'], alpha = .5, label = 'None')\n",
        "plt.legend(loc=\"upper right\")\n",
        "plt.show();\n",
        "\n",
        "plt.hist(sleepdisorder_yes2['slpduration'], alpha = .5, label = 'Sleep Apnea')\n",
        "plt.hist(sleepdisorder_no['slpduration'], alpha = .5, label = 'None')\n",
        "plt.legend(loc=\"upper right\")\n",
        "plt.show()\n",
        "\n",
        "print(stats.describe(sleepdisorder_yes['stresslevel']))\n",
        "print(stats.describe(sleepdisorder_yes2['stresslevel']))\n",
        "print(stats.describe(sleepdisorder_no['stresslevel']))"
      ],
      "metadata": {
        "id": "skAB48oJykvE",
        "colab": {
          "base_uri": "https://localhost:8080/",
          "height": 1000
        },
        "outputId": "675463ab-e7ab-403f-9149-7456f1d560f6"
      },
      "execution_count": 20,
      "outputs": [
        {
          "output_type": "stream",
          "name": "stdout",
          "text": [
            "<class 'pandas.core.frame.DataFrame'>\n",
            "Int64Index: 219 entries, 0 to 359\n",
            "Data columns (total 13 columns):\n",
            " #   Column         Non-Null Count  Dtype  \n",
            "---  ------         --------------  -----  \n",
            " 0   Person ID      219 non-null    int64  \n",
            " 1   Gender         219 non-null    object \n",
            " 2   Age            219 non-null    int64  \n",
            " 3   Occupation     219 non-null    object \n",
            " 4   slpduration    219 non-null    float64\n",
            " 5   qltsleep       219 non-null    int64  \n",
            " 6   actlevel       219 non-null    int64  \n",
            " 7   stresslevel    219 non-null    int64  \n",
            " 8   BMICategory    219 non-null    object \n",
            " 9   BloodPressure  219 non-null    object \n",
            " 10  HeartRate      219 non-null    int64  \n",
            " 11  DailySteps     219 non-null    int64  \n",
            " 12  SleepDisorder  219 non-null    object \n",
            "dtypes: float64(1), int64(7), object(5)\n",
            "memory usage: 24.0+ KB\n",
            "<class 'pandas.core.frame.DataFrame'>\n",
            "Int64Index: 77 entries, 5 to 315\n",
            "Data columns (total 13 columns):\n",
            " #   Column         Non-Null Count  Dtype  \n",
            "---  ------         --------------  -----  \n",
            " 0   Person ID      77 non-null     int64  \n",
            " 1   Gender         77 non-null     object \n",
            " 2   Age            77 non-null     int64  \n",
            " 3   Occupation     77 non-null     object \n",
            " 4   slpduration    77 non-null     float64\n",
            " 5   qltsleep       77 non-null     int64  \n",
            " 6   actlevel       77 non-null     int64  \n",
            " 7   stresslevel    77 non-null     int64  \n",
            " 8   BMICategory    77 non-null     object \n",
            " 9   BloodPressure  77 non-null     object \n",
            " 10  HeartRate      77 non-null     int64  \n",
            " 11  DailySteps     77 non-null     int64  \n",
            " 12  SleepDisorder  77 non-null     object \n",
            "dtypes: float64(1), int64(7), object(5)\n",
            "memory usage: 8.4+ KB\n",
            "<class 'pandas.core.frame.DataFrame'>\n",
            "Int64Index: 78 entries, 3 to 373\n",
            "Data columns (total 13 columns):\n",
            " #   Column         Non-Null Count  Dtype  \n",
            "---  ------         --------------  -----  \n",
            " 0   Person ID      78 non-null     int64  \n",
            " 1   Gender         78 non-null     object \n",
            " 2   Age            78 non-null     int64  \n",
            " 3   Occupation     78 non-null     object \n",
            " 4   slpduration    78 non-null     float64\n",
            " 5   qltsleep       78 non-null     int64  \n",
            " 6   actlevel       78 non-null     int64  \n",
            " 7   stresslevel    78 non-null     int64  \n",
            " 8   BMICategory    78 non-null     object \n",
            " 9   BloodPressure  78 non-null     object \n",
            " 10  HeartRate      78 non-null     int64  \n",
            " 11  DailySteps     78 non-null     int64  \n",
            " 12  SleepDisorder  78 non-null     object \n",
            "dtypes: float64(1), int64(7), object(5)\n",
            "memory usage: 8.5+ KB\n"
          ]
        },
        {
          "output_type": "display_data",
          "data": {
            "text/plain": [
              "<Figure size 640x480 with 1 Axes>"
            ],
            "image/png": "[encoded data removed]"
          },
          "metadata": {}
        },
        {
          "output_type": "display_data",
          "data": {
            "text/plain": [
              "<Figure size 640x480 with 1 Axes>"
            ],
            "image/png": "[encoded data removed]"
          },
          "metadata": {}
        },
        {
          "output_type": "stream",
          "name": "stdout",
          "text": [
            "DescribeResult(nobs=77, minmax=(3, 8), mean=5.87012987012987, variance=2.1408065618591925, skewness=-0.40777588030827655, kurtosis=-1.5647750571287362)\n",
            "DescribeResult(nobs=78, minmax=(3, 8), mean=5.666666666666667, variance=5.445887445887444, skewness=-0.14170572536313614, kurtosis=-1.8609749747877482)\n",
            "DescribeResult(nobs=219, minmax=(3, 8), mean=5.114155251141552, variance=2.5327803611076205, skewness=0.462616212458941, kurtosis=-0.6879234647611221)\n"
          ]
        }
      ]
    },
    {
      "cell_type": "code",
      "source": [
        "#Splitting Dataset by Avg Sleep Duration. Histogram provides proof lower stress levels tend to correlate with longer sleep durations\n",
        "sleepduration_high = shl_data[(shl_data['slpduration'] >= 7)]\n",
        "sleepduration_high.info()\n",
        "\n",
        "sleepduration_low = shl_data[(shl_data['slpduration'] < 7)]\n",
        "sleepduration_low.info()\n",
        "\n",
        "plt.hist(sleepduration_high['stresslevel'], alpha = .5, label = 'Higher Stress')\n",
        "plt.hist(sleepduration_low['stresslevel'], alpha = .5, label = 'Lower Stress')\n",
        "plt.legend(loc= 'upper center')\n",
        "plt.show()\n",
        "\n",
        "print(stats.describe(sleepduration_high['stresslevel']))\n",
        "print(stats.describe(sleepduration_low['stresslevel']))"
      ],
      "metadata": {
        "id": "5PxDfWO04H-L",
        "colab": {
          "base_uri": "https://localhost:8080/",
          "height": 1000
        },
        "outputId": "b2b22213-3fe1-432e-f83b-6112483b0951"
      },
      "execution_count": 21,
      "outputs": [
        {
          "output_type": "stream",
          "name": "stdout",
          "text": [
            "<class 'pandas.core.frame.DataFrame'>\n",
            "Int64Index: 219 entries, 7 to 373\n",
            "Data columns (total 13 columns):\n",
            " #   Column         Non-Null Count  Dtype  \n",
            "---  ------         --------------  -----  \n",
            " 0   Person ID      219 non-null    int64  \n",
            " 1   Gender         219 non-null    object \n",
            " 2   Age            219 non-null    int64  \n",
            " 3   Occupation     219 non-null    object \n",
            " 4   slpduration    219 non-null    float64\n",
            " 5   qltsleep       219 non-null    int64  \n",
            " 6   actlevel       219 non-null    int64  \n",
            " 7   stresslevel    219 non-null    int64  \n",
            " 8   BMICategory    219 non-null    object \n",
            " 9   BloodPressure  219 non-null    object \n",
            " 10  HeartRate      219 non-null    int64  \n",
            " 11  DailySteps     219 non-null    int64  \n",
            " 12  SleepDisorder  219 non-null    object \n",
            "dtypes: float64(1), int64(7), object(5)\n",
            "memory usage: 24.0+ KB\n",
            "<class 'pandas.core.frame.DataFrame'>\n",
            "Int64Index: 155 entries, 0 to 311\n",
            "Data columns (total 13 columns):\n",
            " #   Column         Non-Null Count  Dtype  \n",
            "---  ------         --------------  -----  \n",
            " 0   Person ID      155 non-null    int64  \n",
            " 1   Gender         155 non-null    object \n",
            " 2   Age            155 non-null    int64  \n",
            " 3   Occupation     155 non-null    object \n",
            " 4   slpduration    155 non-null    float64\n",
            " 5   qltsleep       155 non-null    int64  \n",
            " 6   actlevel       155 non-null    int64  \n",
            " 7   stresslevel    155 non-null    int64  \n",
            " 8   BMICategory    155 non-null    object \n",
            " 9   BloodPressure  155 non-null    object \n",
            " 10  HeartRate      155 non-null    int64  \n",
            " 11  DailySteps     155 non-null    int64  \n",
            " 12  SleepDisorder  155 non-null    object \n",
            "dtypes: float64(1), int64(7), object(5)\n",
            "memory usage: 17.0+ KB\n"
          ]
        },
        {
          "output_type": "display_data",
          "data": {
            "text/plain": [
              "<Figure size 640x480 with 1 Axes>"
            ],
            "image/png": "[encoded data removed]"
          },
          "metadata": {}
        },
        {
          "output_type": "stream",
          "name": "stdout",
          "text": [
            "DescribeResult(nobs=219, minmax=(3, 6), mean=4.324200913242009, variance=1.2292740144945755, skewness=0.12446963498341096, kurtosis=-1.354067137437657)\n",
            "DescribeResult(nobs=155, minmax=(4, 8), mean=6.883870967741935, variance=2.0253875157100962, skewness=-1.191266571004645, kurtosis=-0.004932601646001178)\n"
          ]
        }
      ]
    },
    {
      "cell_type": "code",
      "source": [
        "#Splitting Dataset by Avg Activity Level. Histogram shows visual proof of little correlation between activity level and stress levels\n",
        "actlevel_high = shl_data[(shl_data['actlevel'] >= 59)]\n",
        "actlevel_high.info()\n",
        "\n",
        "actlevel_low = shl_data[(shl_data['actlevel'] < 59)]\n",
        "actlevel_low.info()\n",
        "\n",
        "plt.hist(actlevel_high['stresslevel'], alpha = .5, label = 'Higher Stress')\n",
        "plt.hist(actlevel_low['stresslevel'], alpha = .5, label = 'Lower Stress')\n",
        "plt.legend(loc= 'upper right')\n",
        "plt.show()\n",
        "\n",
        "print(stats.describe(actlevel_high['stresslevel']))\n",
        "print(stats.describe(actlevel_low['stresslevel']))"
      ],
      "metadata": {
        "id": "2jid_OJK68DX",
        "colab": {
          "base_uri": "https://localhost:8080/",
          "height": 1000
        },
        "outputId": "73b34d89-bef8-49c3-dbf3-987df87c2283"
      },
      "execution_count": 22,
      "outputs": [
        {
          "output_type": "stream",
          "name": "stdout",
          "text": [
            "<class 'pandas.core.frame.DataFrame'>\n",
            "Int64Index: 213 entries, 1 to 373\n",
            "Data columns (total 13 columns):\n",
            " #   Column         Non-Null Count  Dtype  \n",
            "---  ------         --------------  -----  \n",
            " 0   Person ID      213 non-null    int64  \n",
            " 1   Gender         213 non-null    object \n",
            " 2   Age            213 non-null    int64  \n",
            " 3   Occupation     213 non-null    object \n",
            " 4   slpduration    213 non-null    float64\n",
            " 5   qltsleep       213 non-null    int64  \n",
            " 6   actlevel       213 non-null    int64  \n",
            " 7   stresslevel    213 non-null    int64  \n",
            " 8   BMICategory    213 non-null    object \n",
            " 9   BloodPressure  213 non-null    object \n",
            " 10  HeartRate      213 non-null    int64  \n",
            " 11  DailySteps     213 non-null    int64  \n",
            " 12  SleepDisorder  213 non-null    object \n",
            "dtypes: float64(1), int64(7), object(5)\n",
            "memory usage: 23.3+ KB\n",
            "<class 'pandas.core.frame.DataFrame'>\n",
            "Int64Index: 161 entries, 0 to 338\n",
            "Data columns (total 13 columns):\n",
            " #   Column         Non-Null Count  Dtype  \n",
            "---  ------         --------------  -----  \n",
            " 0   Person ID      161 non-null    int64  \n",
            " 1   Gender         161 non-null    object \n",
            " 2   Age            161 non-null    int64  \n",
            " 3   Occupation     161 non-null    object \n",
            " 4   slpduration    161 non-null    float64\n",
            " 5   qltsleep       161 non-null    int64  \n",
            " 6   actlevel       161 non-null    int64  \n",
            " 7   stresslevel    161 non-null    int64  \n",
            " 8   BMICategory    161 non-null    object \n",
            " 9   BloodPressure  161 non-null    object \n",
            " 10  HeartRate      161 non-null    int64  \n",
            " 11  DailySteps     161 non-null    int64  \n",
            " 12  SleepDisorder  161 non-null    object \n",
            "dtypes: float64(1), int64(7), object(5)\n",
            "memory usage: 17.6+ KB\n"
          ]
        },
        {
          "output_type": "display_data",
          "data": {
            "text/plain": [
              "<Figure size 640x480 with 1 Axes>"
            ],
            "image/png": "[encoded data removed]"
          },
          "metadata": {}
        },
        {
          "output_type": "stream",
          "name": "stdout",
          "text": [
            "DescribeResult(nobs=213, minmax=(3, 8), mean=5.075117370892019, variance=2.5037647267251306, skewness=0.5851290234924638, kurtosis=-0.536424764121652)\n",
            "DescribeResult(nobs=161, minmax=(3, 8), mean=5.795031055900621, variance=3.7264751552795037, skewness=-0.36167372633416, kurtosis=-1.5090135342086506)\n"
          ]
        }
      ]
    },
    {
      "cell_type": "code",
      "source": [
        "#Splitting Dataset by Avg Quality of Sleep. Histogram shows visual proof that lower stress levels seem to correlate with higher quality of sleep\n",
        "qltsleep_high = shl_data[(shl_data['qltsleep'] >= 7)]\n",
        "qltsleep_high.info()\n",
        "\n",
        "qltsleep_low = shl_data[(shl_data['qltsleep'] < 7)]\n",
        "qltsleep_low.info()\n",
        "\n",
        "plt.hist(qltsleep_high['stresslevel'], alpha = .5, label = 'Higher Stress')\n",
        "plt.hist(qltsleep_low['stresslevel'], alpha = .5, label = 'Lower Stress')\n",
        "plt.legend(loc= 'upper right')\n",
        "plt.show()\n",
        "\n",
        "print(stats.describe(qltsleep_high['stresslevel']))\n",
        "print(stats.describe(qltsleep_low['stresslevel']))"
      ],
      "metadata": {
        "id": "_3OIz9YamrQV",
        "colab": {
          "base_uri": "https://localhost:8080/",
          "height": 1000
        },
        "outputId": "dac48d1f-6567-4a42-c01b-e499ea8b551d"
      },
      "execution_count": 23,
      "outputs": [
        {
          "output_type": "stream",
          "name": "stdout",
          "text": [
            "<class 'pandas.core.frame.DataFrame'>\n",
            "Int64Index: 257 entries, 7 to 373\n",
            "Data columns (total 13 columns):\n",
            " #   Column         Non-Null Count  Dtype  \n",
            "---  ------         --------------  -----  \n",
            " 0   Person ID      257 non-null    int64  \n",
            " 1   Gender         257 non-null    object \n",
            " 2   Age            257 non-null    int64  \n",
            " 3   Occupation     257 non-null    object \n",
            " 4   slpduration    257 non-null    float64\n",
            " 5   qltsleep       257 non-null    int64  \n",
            " 6   actlevel       257 non-null    int64  \n",
            " 7   stresslevel    257 non-null    int64  \n",
            " 8   BMICategory    257 non-null    object \n",
            " 9   BloodPressure  257 non-null    object \n",
            " 10  HeartRate      257 non-null    int64  \n",
            " 11  DailySteps     257 non-null    int64  \n",
            " 12  SleepDisorder  257 non-null    object \n",
            "dtypes: float64(1), int64(7), object(5)\n",
            "memory usage: 28.1+ KB\n",
            "<class 'pandas.core.frame.DataFrame'>\n",
            "Int64Index: 117 entries, 0 to 305\n",
            "Data columns (total 13 columns):\n",
            " #   Column         Non-Null Count  Dtype  \n",
            "---  ------         --------------  -----  \n",
            " 0   Person ID      117 non-null    int64  \n",
            " 1   Gender         117 non-null    object \n",
            " 2   Age            117 non-null    int64  \n",
            " 3   Occupation     117 non-null    object \n",
            " 4   slpduration    117 non-null    float64\n",
            " 5   qltsleep       117 non-null    int64  \n",
            " 6   actlevel       117 non-null    int64  \n",
            " 7   stresslevel    117 non-null    int64  \n",
            " 8   BMICategory    117 non-null    object \n",
            " 9   BloodPressure  117 non-null    object \n",
            " 10  HeartRate      117 non-null    int64  \n",
            " 11  DailySteps     117 non-null    int64  \n",
            " 12  SleepDisorder  117 non-null    object \n",
            "dtypes: float64(1), int64(7), object(5)\n",
            "memory usage: 12.8+ KB\n"
          ]
        },
        {
          "output_type": "display_data",
          "data": {
            "text/plain": [
              "<Figure size 640x480 with 1 Axes>"
            ],
            "image/png": "[encoded data removed]"
          },
          "metadata": {}
        },
        {
          "output_type": "stream",
          "name": "stdout",
          "text": [
            "DescribeResult(nobs=257, minmax=(3, 7), mean=4.392996108949417, variance=1.2863570038910503, skewness=0.31427640561433423, kurtosis=-0.9108179175524445)\n",
            "DescribeResult(nobs=117, minmax=(6, 8), mean=7.564102564102564, variance=0.31697612732095487, skewness=-0.8357402961549368, kurtosis=-0.3327410234414665)\n"
          ]
        }
      ]
    },
    {
      "cell_type": "code",
      "source": [
        "#Overall, our inital correlations showed proof of our hypothesis being correct in the sense that increased sleep duration and sleep quality seem to have a strong correlation to an overal precieved less of stress. However the physical activity level did not seem to show a strong correlation to stress levelsa as initially expected. After running some Pearson and Ttest on each indivsual varaibel compared to stress levels we did receive an accetable P-value for ALL test run below 0.05 to reject the null hypothesis confirming that the intended variabels listed such as increased sleep duration & physical activity do normally lead to higher levels of perceived quality of sleep, with sleep duration having a much more significant impact than physical activity. Also proving that with an improved level quality of sleep will lead to lower levels of stress we ran multiple different visuals from histograms, boxplots and scatterplots to show proof of our findings with ALL graphs information showing skewness within +-3 and Kurtosis within +-8, (other than basic stress level histogram as expected) showing proof of symmetry for our graphs when using stress level as a hue to provide easier visuals to read. Our conclusion would be to focus on reccomending a focus on proper sleep durations to increase overall levels of perceived quality of sleep. Which in turn strongly correlates to overal lower levels of stress."
      ],
      "metadata": {
        "id": "7dV2X2Nm2SN0"
      },
      "execution_count": 24,
      "outputs": []
    }
  ]
}